{
 "cells": [
  {
   "cell_type": "code",
   "execution_count": null,
   "id": "77d3c58d-3166-4e74-9670-956455f02496",
   "metadata": {},
   "outputs": [],
   "source": [
    "# install the package from github\n",
    "# if you're reading this example, it's likely already on your system\n",
    "# but this will download & install in one step\n",
    "!pip install git+git@github.com:DanielMDouglas/GAMPixTools.git"
   ]
  },
  {
   "cell_type": "code",
   "execution_count": null,
   "id": "e2014d5c-5bdd-474e-bde6-a326c714e071",
   "metadata": {},
   "outputs": [],
   "source": [
    "import matplotlib.pyplot as plt\n",
    "\n",
    "from GAMPixTools import electron_track_tools\n",
    "\n",
    "# edep-sim generation volume is set so that z < 0, so z == 0 defines the anode\n",
    "depth = 0\n",
    "\n",
    "# path on s3df\n",
    "#input_edepsim_file = '/sdf/group/neutrino/gampix/FD_size_samples/neutron_0-10GeV/dumpTree/dumpTree_single_particle_4cc264c4-34da-46c2-ab98-fe22e592ce6f.h5'\n",
    "# path on my machine\n",
    "input_edepsim_file = '/home/dan/studies/GAMPix/neutron_sample/dumpTree_single_particle_f9156471-3563-4f48-b630-4ee5ec804bdd.h5'\n",
    "event_index = 0\n",
    "\n",
    "# Find files - use input args from CLI.\n",
    "track = electron_track_tools.Track(input_edepsim_file,\n",
    "                                   event_index,\n",
    "                                   input_format = 'dumpTree')\n",
    "\n",
    "# set the readout to GAMPix for DUNE\n",
    "track.reset_params(charge_readout='GAMPixD')\n",
    "track.readout_charge(depth)"
   ]
  },
  {
   "cell_type": "code",
   "execution_count": null,
   "id": "fddf4bf5-e487-4e1f-81a0-e6fa1aa0cb23",
   "metadata": {},
   "outputs": [],
   "source": [
    "print (\"track object\", track)\n",
    "print (\"charge readout measurements\", track.params.charge_readout)\n",
    "print ( '  pixels charge: '\n",
    "       + f'{track.pixel_samples[\"samples_triggered\"].sum():4.0f} e-')\n",
    "print ( '  coarse tiles charge: '\n",
    "       + f'{track.coarse_tiles_samples[\"samples_triggered\"].sum():4.0f} e-')\n",
    "print ( '  deposited charge: '\n",
    "       + f'{sum(track.raw_track[\"num_e\"])} e-')\n",
    "print (\"number of charge bundles simulated:\", track.raw_track[\"num_e\"].shape)\n",
    "print (\"number of electrons per bundle:\", track.raw_track[\"num_e\"])\n",
    "print (\"pixel sample keys:\", track.pixel_samples.keys())\n",
    "print (\"number of triggered pixels:\", track.pixel_samples['samples_triggered'].shape)\n",
    "print (\"triggered pixel position measurements:\", track.pixel_samples['r_triggered'])\n",
    "print (\"charge arrived at anode:\", track.pixel_samples['samples_raw'])\n",
    "print (\"charge positions at anode:\", track.pixel_samples['r_raw'])\n",
    "print (\"total charge at anode:\", sum(track.pixel_samples['samples_raw']))\n",
    "# print (min(track.pixel_samples['r_triggered']),\n",
    "#        max(track.pixel_samples['r_triggered']))"
   ]
  },
  {
   "cell_type": "code",
   "execution_count": null,
   "id": "87ed5b75-4ae6-4fc1-8e32-90efe03caf07",
   "metadata": {},
   "outputs": [],
   "source": [
    "track.display()\n",
    "track.display(pixels=False)\n",
    "track.display(raw_track=False)\n",
    "    \n",
    "plt.tight_layout()\n",
    "plt.show()"
   ]
  },
  {
   "cell_type": "code",
   "execution_count": null,
   "id": "5a8151bf-b8b9-47cd-ac50-24711f2f963a",
   "metadata": {},
   "outputs": [],
   "source": []
  }
 ],
 "metadata": {
  "kernelspec": {
   "display_name": "Python 3 (ipykernel)",
   "language": "python",
   "name": "python3"
  },
  "language_info": {
   "codemirror_mode": {
    "name": "ipython",
    "version": 3
   },
   "file_extension": ".py",
   "mimetype": "text/x-python",
   "name": "python",
   "nbconvert_exporter": "python",
   "pygments_lexer": "ipython3",
   "version": "3.12.7"
  }
 },
 "nbformat": 4,
 "nbformat_minor": 5
}
